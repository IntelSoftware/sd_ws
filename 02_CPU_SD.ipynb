{
 "cells": [
  {
   "cell_type": "markdown",
   "id": "ffb3358b-f307-41d6-b2ad-15d96d9cb737",
   "metadata": {},
   "source": [
    "## Install Requirements"
   ]
  },
  {
   "cell_type": "code",
   "execution_count": null,
   "id": "53c7a273-b2f5-47f2-95a8-6ee0c17424a0",
   "metadata": {},
   "outputs": [],
   "source": [
    "import sys\n",
    "!{sys.executable} -m pip install optimum[diffusers]"
   ]
  },
  {
   "cell_type": "code",
   "execution_count": null,
   "id": "9cf68c19-9f4c-4ed6-a7c1-4d7f1d3d7b28",
   "metadata": {},
   "outputs": [],
   "source": [
    "from optimum.intel import OVStableDiffusionPipeline\n",
    "from IPython.display import display\n",
    "from PIL import Image\n",
    "\n",
    "# Load the model\n",
    "model_id = \"echarlaix/stable-diffusion-v1-5-openvino\"\n",
    "pipeline = OVStableDiffusionPipeline.from_pretrained(model_id)\n",
    "\n",
    "# Generate the image with the given prompt\n",
    "prompt = \"The Night Watch by Rembrandt\"\n",
    "images = pipeline(prompt).images\n",
    "\n",
    "# Display the image \n",
    "if images:\n",
    "    display(images[0])"
   ]
  },
  {
   "cell_type": "markdown",
   "id": "4c9c8ec5-bc43-4386-abe0-8fccb510fb57",
   "metadata": {},
   "source": [
    "## We can also convert a Pytorch Model on the Fly"
   ]
  },
  {
   "cell_type": "code",
   "execution_count": null,
   "id": "a4cabe50-42ee-472b-9219-27003aed460f",
   "metadata": {},
   "outputs": [],
   "source": [
    "from optimum.intel import OVStableDiffusionPipeline\n",
    "from IPython.display import display\n",
    "from PIL import Image\n",
    "\n",
    "#Load the model\n",
    "model_id = \"/home/common/data/Big_Data/GenAI/runwayml/stable-diffusion-v1-5\"\n",
    "pipeline = OVStableDiffusionPipeline.from_pretrained(model_id, export=True)\n",
    "\n",
    "# Don't forget to save the exported model\n",
    "pipeline.save_pretrained(\"openvino-sd-v1-5\")\n",
    "\n",
    "# Generate the image with the given prompt\n",
    "prompt = \"The Night Watch by Rembrandt\"\n",
    "images = pipeline(prompt).images\n",
    "\n",
    "# Display the image \n",
    "if images:\n",
    "    display(images[0])"
   ]
  },
  {
   "cell_type": "markdown",
   "id": "3fe18370-62f0-472a-84a4-5dcf0e35bf4a",
   "metadata": {},
   "source": [
    "## Statically Reshape the Model to Speedup Inference"
   ]
  },
  {
   "cell_type": "code",
   "execution_count": null,
   "id": "5565e8eb-8bbb-4848-9f89-937d8914db4f",
   "metadata": {},
   "outputs": [],
   "source": [
    "from optimum.intel import OVStableDiffusionPipeline\n",
    "from IPython.display import display\n",
    "from PIL import Image\n",
    "\n",
    "#Load the model\n",
    "model_id = \"/home/common/data/Big_Data/GenAI/runwayml/stable-diffusion-v1-5\"\n",
    "pipeline = OVStableDiffusionPipeline.from_pretrained(model_id, export=True)\n",
    "\n",
    "# Don't forget to save the exported model\n",
    "pipeline.save_pretrained(\"openvino-sd-v1-5\")\n",
    "\n",
    "# Define the shapes related to the inputs and desired outputs\n",
    "batch_size = 1\n",
    "num_images_per_prompt = 1\n",
    "height = 512\n",
    "width = 512\n",
    "\n",
    "# Statically reshape the model\n",
    "pipeline.reshape(batch_size=batch_size, height=height, width=width, num_images_per_prompt=num_images_per_prompt)\n",
    "# Compile the model before the first inference\n",
    "pipeline.compile()\n",
    "\n",
    "# Run inference\n",
    "images = pipeline(prompt, height=height, width=width, num_images_per_prompt=num_images_per_prompt).images\n",
    "\n",
    "# Generate the image with the given prompt\n",
    "prompt = \"The Night Watch by Rembrandt\"\n",
    "images = pipeline(prompt).images\n",
    "\n",
    "# Display the image \n",
    "if images:\n",
    "    display(images[0])"
   ]
  },
  {
   "cell_type": "code",
   "execution_count": null,
   "id": "85188729-5faa-4f90-acb0-a3121b1e1204",
   "metadata": {},
   "outputs": [],
   "source": []
  }
 ],
 "metadata": {
  "kernelspec": {
   "display_name": "Pytorch GPU",
   "language": "python",
   "name": "pytorch-gpu"
  },
  "language_info": {
   "codemirror_mode": {
    "name": "ipython",
    "version": 3
   },
   "file_extension": ".py",
   "mimetype": "text/x-python",
   "name": "python",
   "nbconvert_exporter": "python",
   "pygments_lexer": "ipython3",
   "version": "3.9.18"
  }
 },
 "nbformat": 4,
 "nbformat_minor": 5
}
